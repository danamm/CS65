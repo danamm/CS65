{
 "cells": [
  {
   "cell_type": "markdown",
   "metadata": {
    "id": "GqNA8th4ZQsR"
   },
   "source": [
    "# Markdown\n",
    "\n",
    "## Text\n",
    "\n",
    "Can make *italicized*, **bold**, and ``monospaced text``:\n",
    "\n",
    "    Can make *italicized*, **bold**, and ``monospaced text``\n",
    "\n"
   ]
  },
  {
   "cell_type": "markdown",
   "metadata": {
    "id": "rQoOWFYzZQsT"
   },
   "source": [
    "## Headers\n",
    "\n",
    "We can make headers like this:\n",
    "\n",
    "    # H1\n",
    "    ## H2\n",
    "    ### H3\n",
    "    \n",
    "The results look like this:\n",
    "\n",
    "# H1\n",
    "## H2\n",
    "### H3"
   ]
  },
  {
   "cell_type": "markdown",
   "metadata": {
    "id": "Sr0PFoNjZQsU"
   },
   "source": [
    "## Lists\n",
    "\n",
    "Lists:\n",
    "\n",
    "    * First item\n",
    "    * Second item\n",
    "\n",
    "    1.   List item\n",
    "    2.   List item\n",
    "\n",
    "\n",
    "\n",
    "The results look like this:\n",
    "\n",
    "* First item\n",
    "\n",
    "  * Sub item\n",
    "\n",
    "* Second item\n",
    "\n",
    "1. List item\n",
    "2. List item\n"
   ]
  },
  {
   "cell_type": "markdown",
   "metadata": {
    "id": "krF9kfVCZQsU"
   },
   "source": [
    "## Inline Code\n",
    "\n",
    "Code:\n",
    "\n",
    "    If you indent by four spaces you have code:\n",
    "    \n",
    "        def add(x, y):\n",
    "            return x + y\n",
    "            \n",
    "    Or you can do this:\n",
    "    \n",
    "        ```python\n",
    "        def add(x, y):\n",
    "            return x + y\n",
    "        ```\n",
    "            \n",
    "The results look like this:\n",
    "\n",
    "    def add(x, y):\n",
    "        return x + y\n",
    "\n",
    "or:\n",
    "\n",
    "```python\n",
    "def add(x, y):\n",
    "    return x + y\n",
    "```"
   ]
  },
  {
   "cell_type": "markdown",
   "metadata": {
    "id": "Jn6_9GBhZQsV"
   },
   "source": [
    "## Images\n",
    "\n",
    "\n",
    "\n",
    "Image:\n",
    "\n",
    "    ![alt text](https://www-media.stanford.edu/wp-content/uploads/2017/03/24182714/about_landing-1.jpg \"Image Title\")\n",
    "  \n",
    "The results look like this:\n",
    "\n",
    "![alt text](https://www-media.stanford.edu/wp-content/uploads/2017/03/24182714/about_landing-1.jpg \"Image Title\")"
   ]
  },
  {
   "cell_type": "markdown",
   "metadata": {
    "id": "aDcq_WARZQsW"
   },
   "source": [
    "## HTML\n",
    "\n",
    "Inline HMTL:\n",
    "\n",
    "    <strong>Bold then <tt>hr</tt> tag</strong><hr/>\n",
    "    \n",
    "The results look like this:\n",
    "\n",
    "<strong>Bold then <tt>hr</tt> tag</strong><hr/>\n",
    "\n"
   ]
  },
  {
   "cell_type": "markdown",
   "metadata": {
    "id": "3WHtdGWzZQsW"
   },
   "source": [
    "## Tables\n",
    "\n",
    "You can make tables like this:\n",
    "\n",
    "    id|name|age\n",
    "    ---|---|---\n",
    "    1|fred|50\n",
    "    2|sally|42\n",
    "\n",
    "The results look like this:\n",
    "\n",
    "id|name|age\n",
    "---|---|---\n",
    "1|fred|50\n",
    "2|sally|42"
   ]
  },
  {
   "cell_type": "code",
   "execution_count": null,
   "metadata": {
    "vscode": {
     "languageId": "plaintext"
    }
   },
   "outputs": [],
   "source": []
  },
  {
   "cell_type": "markdown",
   "metadata": {},
   "source": [
    "## Jupyter Examples and Best Practices\n",
    "\n",
    "- https://kaggle.com/code/ekami66/detailed-exploratory-data-analysis-with-python\n",
    "- https://gwosc.org/GW150914data/GW150914_tutorial.html\n",
    "- https://journals.plos.org/ploscompbiol/article?id=10.1371/journal.pcbi.1007007\n"
   ]
  }
 ],
 "metadata": {
  "colab": {
   "provenance": []
  },
  "jupytext": {
   "formats": "ipynb,py:light"
  },
  "kernelspec": {
   "display_name": "Python 3",
   "language": "python",
   "name": "python3"
  },
  "language_info": {
   "codemirror_mode": {
    "name": "ipython",
    "version": 3
   },
   "file_extension": ".py",
   "mimetype": "text/x-python",
   "name": "python",
   "nbconvert_exporter": "python",
   "pygments_lexer": "ipython3",
   "version": "3.6.4"
  }
 },
 "nbformat": 4,
 "nbformat_minor": 0
}
